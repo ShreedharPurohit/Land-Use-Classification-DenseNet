{
  "cells": [
    {
      "cell_type": "code",
      "execution_count": 59,
      "metadata": {
        "id": "S_O5YZ8gt8ne"
      },
      "outputs": [],
      "source": [
        "import numpy as np\n",
        "import matplotlib.pyplot as plt\n",
        "from tensorflow.keras.models import Model\n",
        "from tensorflow.keras.layers import Dense, Dropout, GlobalAveragePooling2D\n",
        "from tensorflow.keras.optimizers import Adam\n",
        "from tensorflow.keras.applications import DenseNet121\n",
        "from tensorflow.keras.preprocessing.image import ImageDataGenerator\n",
        "from sklearn.metrics import classification_report, f1_score, precision_score, recall_score\n",
        "from tensorflow.keras.preprocessing.image import load_img, img_to_array\n",
        "from tensorflow.keras.applications.densenet import preprocess_input\n",
        "import pickle\n",
        "from tensorflow.keras.models import load_model"
      ]
    },
    {
      "cell_type": "code",
      "execution_count": 60,
      "metadata": {
        "id": "Q8_tSujpuYqZ"
      },
      "outputs": [],
      "source": [
        "train_dir = 'train dataset'\n",
        "test_dir = 'test dataset'\n",
        "val_dir = 'validation dataset'"
      ]
    },
    {
      "cell_type": "code",
      "execution_count": 61,
      "metadata": {
        "id": "yw_N7CdjuvG5"
      },
      "outputs": [],
      "source": [
        "num_classes = 21\n",
        "image_size = (224, 224)\n",
        "batch_size = 128\n",
        "epochs = 10"
      ]
    },
    {
      "cell_type": "code",
      "execution_count": 62,
      "metadata": {
        "colab": {
          "base_uri": "https://localhost:8080/"
        },
        "id": "nTsMtfJxuwj3",
        "outputId": "7245b128-4fad-4956-8c72-99ad3a1fda2f"
      },
      "outputs": [
        {
          "name": "stdout",
          "output_type": "stream",
          "text": [
            "Found 7350 images belonging to 21 classes.\n",
            "Found 1050 images belonging to 21 classes.\n",
            "Found 2100 images belonging to 21 classes.\n"
          ]
        }
      ],
      "source": [
        "train_datagen = ImageDataGenerator(\n",
        "    rescale=1./255,\n",
        "    shear_range=0.2,\n",
        "    zoom_range=0.2,\n",
        "    horizontal_flip=True\n",
        ")\n",
        "\n",
        "test_datagen = ImageDataGenerator(rescale=1./255)\n",
        "\n",
        "val_datagen = ImageDataGenerator(rescale=1./255)\n",
        "\n",
        "train_generator = train_datagen.flow_from_directory(\n",
        "    train_dir,\n",
        "    target_size=image_size,\n",
        "    batch_size=batch_size,\n",
        "    class_mode='categorical',\n",
        "    shuffle=True\n",
        ")\n",
        "\n",
        "test_generator = test_datagen.flow_from_directory(\n",
        "    test_dir,\n",
        "    target_size=image_size,\n",
        "    batch_size=batch_size,\n",
        "    class_mode='categorical',\n",
        "    shuffle=False\n",
        ")\n",
        "\n",
        "val_generator = val_datagen.flow_from_directory(\n",
        "    val_dir,\n",
        "    target_size=image_size,\n",
        "    batch_size=batch_size,\n",
        "    class_mode='categorical',\n",
        "    shuffle=False\n",
        ")"
      ]
    },
    {
      "cell_type": "code",
      "execution_count": 63,
      "metadata": {
        "id": "_scg087Zu3Od"
      },
      "outputs": [],
      "source": [
        "base_model = DenseNet121(weights='imagenet', include_top=False, input_shape=(image_size[0], image_size[1], 3))"
      ]
    },
    {
      "cell_type": "code",
      "execution_count": 64,
      "metadata": {
        "id": "YGm0x-Q6u7At"
      },
      "outputs": [],
      "source": [
        "x = base_model.output\n",
        "x = GlobalAveragePooling2D()(x)\n",
        "x = Dropout(0.5)(x)\n",
        "x = Dense(1024, activation='relu')(x)\n",
        "x = Dropout(0.5)(x)\n",
        "predictions = Dense(num_classes, activation='softmax')(x)"
      ]
    },
    {
      "cell_type": "code",
      "execution_count": 65,
      "metadata": {
        "id": "ZRlILbiou8tc"
      },
      "outputs": [],
      "source": [
        "model = Model(inputs=base_model.input, outputs=predictions)"
      ]
    },
    {
      "cell_type": "code",
      "execution_count": 66,
      "metadata": {
        "id": "-o88cpgbu_r7"
      },
      "outputs": [],
      "source": [
        "for layer in base_model.layers:\n",
        "    layer.trainable = False"
      ]
    },
    {
      "cell_type": "code",
      "execution_count": null,
      "metadata": {
        "colab": {
          "base_uri": "https://localhost:8080/"
        },
        "id": "gyBFQyXavA6j",
        "outputId": "9d30b187-a5db-4482-df14-995b723b3238"
      },
      "outputs": [],
      "source": [
        "model.compile(optimizer=Adam(lr=0.001), loss='categorical_crossentropy', metrics=['accuracy'])"
      ]
    },
    {
      "cell_type": "code",
      "execution_count": 68,
      "metadata": {
        "colab": {
          "base_uri": "https://localhost:8080/"
        },
        "id": "wFn7yY8HvCTn",
        "outputId": "ecb3c8d7-414a-4705-b73f-7c2b71b7f7dd"
      },
      "outputs": [
        {
          "name": "stdout",
          "output_type": "stream",
          "text": [
            "Epoch 1/10\n",
            "57/57 [==============================] - 607s 11s/step - loss: 1.7368 - accuracy: 0.4790 - val_loss: 0.4912 - val_accuracy: 0.8638\n",
            "Epoch 2/10\n",
            "57/57 [==============================] - 605s 11s/step - loss: 0.9142 - accuracy: 0.7017 - val_loss: 0.3772 - val_accuracy: 0.8872\n",
            "Epoch 3/10\n",
            "57/57 [==============================] - 612s 11s/step - loss: 0.7832 - accuracy: 0.7448 - val_loss: 0.3490 - val_accuracy: 0.8892\n",
            "Epoch 4/10\n",
            "57/57 [==============================] - 611s 11s/step - loss: 0.7047 - accuracy: 0.7671 - val_loss: 0.2965 - val_accuracy: 0.9048\n",
            "Epoch 5/10\n",
            "57/57 [==============================] - 603s 11s/step - loss: 0.6684 - accuracy: 0.7801 - val_loss: 0.2836 - val_accuracy: 0.9087\n",
            "Epoch 6/10\n",
            "57/57 [==============================] - 596s 11s/step - loss: 0.6180 - accuracy: 0.7919 - val_loss: 0.2525 - val_accuracy: 0.9155\n",
            "Epoch 7/10\n",
            "57/57 [==============================] - 592s 10s/step - loss: 0.6134 - accuracy: 0.7930 - val_loss: 0.2474 - val_accuracy: 0.9229\n",
            "Epoch 8/10\n",
            "57/57 [==============================] - 595s 10s/step - loss: 0.5730 - accuracy: 0.8041 - val_loss: 0.2590 - val_accuracy: 0.9126\n",
            "Epoch 9/10\n",
            "57/57 [==============================] - 603s 11s/step - loss: 0.5638 - accuracy: 0.8085 - val_loss: 0.2471 - val_accuracy: 0.9175\n",
            "Epoch 10/10\n",
            "57/57 [==============================] - 613s 11s/step - loss: 0.5352 - accuracy: 0.8164 - val_loss: 0.2540 - val_accuracy: 0.9194\n"
          ]
        }
      ],
      "source": [
        "history=model.fit(\n",
        "    train_generator,\n",
        "    steps_per_epoch=train_generator.samples // batch_size,\n",
        "    validation_data=val_generator,\n",
        "    validation_steps=val_generator.samples // batch_size,\n",
        "    epochs=epochs\n",
        ")"
      ]
    },
    {
      "cell_type": "code",
      "execution_count": 69,
      "metadata": {
        "colab": {
          "base_uri": "https://localhost:8080/"
        },
        "id": "zuF1BdQlvFJx",
        "outputId": "ce39d92f-93d1-4a6c-cb2a-122911474cc8"
      },
      "outputs": [
        {
          "name": "stdout",
          "output_type": "stream",
          "text": [
            "9/9 [==============================] - 66s 7s/step\n"
          ]
        }
      ],
      "source": [
        "test_steps = len(test_generator)\n",
        "test_generator.reset()\n",
        "predictions = model.predict(test_generator, steps=test_steps, verbose=1)\n",
        "y_pred = np.argmax(predictions, axis=1)\n",
        "y_true = test_generator.classes"
      ]
    },
    {
      "cell_type": "code",
      "execution_count": 70,
      "metadata": {
        "colab": {
          "base_uri": "https://localhost:8080/"
        },
        "id": "1vQOuMiyOzC3",
        "outputId": "932703fe-b79b-4781-fa0b-88e6925a08ca"
      },
      "outputs": [
        {
          "name": "stdout",
          "output_type": "stream",
          "text": [
            "              precision    recall  f1-score   support\n",
            "\n",
            "           0       0.98      1.00      0.99        50\n",
            "           1       0.96      0.94      0.95        50\n",
            "           2       1.00      0.86      0.92        50\n",
            "           3       0.96      0.96      0.96        50\n",
            "           4       0.89      0.80      0.84        50\n",
            "           5       1.00      1.00      1.00        50\n",
            "           6       0.87      0.40      0.55        50\n",
            "           7       0.91      1.00      0.95        50\n",
            "           8       0.94      0.98      0.96        50\n",
            "           9       0.82      0.94      0.88        50\n",
            "          10       1.00      0.98      0.99        50\n",
            "          11       0.92      0.90      0.91        50\n",
            "          12       0.67      0.92      0.77        50\n",
            "          13       0.79      0.90      0.84        50\n",
            "          14       0.93      1.00      0.96        50\n",
            "          15       1.00      1.00      1.00        50\n",
            "          16       0.90      0.86      0.88        50\n",
            "          17       0.98      0.92      0.95        50\n",
            "          18       0.77      0.96      0.86        50\n",
            "          19       0.98      0.84      0.90        50\n",
            "          20       1.00      0.94      0.97        50\n",
            "\n",
            "    accuracy                           0.91      1050\n",
            "   macro avg       0.92      0.91      0.91      1050\n",
            "weighted avg       0.92      0.91      0.91      1050\n",
            "\n"
          ]
        }
      ],
      "source": [
        "report = classification_report(y_true, y_pred)\n",
        "print(report)"
      ]
    },
    {
      "cell_type": "code",
      "execution_count": 71,
      "metadata": {
        "colab": {
          "base_uri": "https://localhost:8080/"
        },
        "id": "mIBn5oD4mU0K",
        "outputId": "c09487e0-f5b4-449d-ccb9-b0fa03bf340d"
      },
      "outputs": [
        {
          "name": "stdout",
          "output_type": "stream",
          "text": [
            "F1 score: 0.9065\n",
            "Precision: 0.9171\n",
            "Recall: 0.9095\n"
          ]
        }
      ],
      "source": [
        "f1 = f1_score(y_true, y_pred, average='weighted')\n",
        "precision = precision_score(y_true, y_pred, average='weighted')\n",
        "recall = recall_score(y_true, y_pred, average='weighted')\n",
        "\n",
        "print(f'F1 score: {f1:.4f}')\n",
        "print(f'Precision: {precision:.4f}')\n",
        "print(f'Recall: {recall:.4f}')"
      ]
    },
    {
      "cell_type": "code",
      "execution_count": 72,
      "metadata": {
        "id": "G104aUNotd90"
      },
      "outputs": [],
      "source": [
        "image_path = 'test image_path'"
      ]
    },
    {
      "cell_type": "code",
      "execution_count": 73,
      "metadata": {
        "id": "TEyNuJmVtjMA"
      },
      "outputs": [],
      "source": [
        "image = load_img(image_path, target_size=image_size)\n",
        "image = img_to_array(image)\n",
        "image = preprocess_input(image[np.newaxis, ...])"
      ]
    },
    {
      "cell_type": "code",
      "execution_count": 74,
      "metadata": {
        "id": "QuWQOsuStpqj"
      },
      "outputs": [],
      "source": [
        "prediction = model.predict(image)\n",
        "predicted_class_index = np.argmax(prediction)"
      ]
    },
    {
      "cell_type": "code",
      "execution_count": 75,
      "metadata": {
        "id": "89hqGO_vt18w"
      },
      "outputs": [],
      "source": [
        "class_names = ['agricultural', 'airplane', 'baseballdiamond', 'beach', 'buildings', 'chaparral', 'denseresidential',\n",
        "               'forest', 'freeway', 'golfcourse', 'harbor', 'intersection', 'mediumreesidential', 'mobilehomepark', 'overpass', 'parkinglot',\n",
        "               'river', 'runway','sparseresidential', 'storagetanks', 'tenniscourt']\n",
        "\n",
        "predicted_class_name = class_names[predicted_class_index]"
      ]
    },
    {
      "cell_type": "code",
      "execution_count": 76,
      "metadata": {
        "colab": {
          "base_uri": "https://localhost:8080/"
        },
        "id": "AEcZZ25puKf2",
        "outputId": "701a7eaf-19e5-4624-8fa1-90626a3b88b8"
      },
      "outputs": [
        {
          "name": "stdout",
          "output_type": "stream",
          "text": [
            "Predicted class: denseresidential\n"
          ]
        }
      ],
      "source": [
        "print(f'Predicted class: {predicted_class_name}')"
      ]
    },
    {
      "cell_type": "code",
      "execution_count": 82,
      "metadata": {
        "colab": {
          "base_uri": "https://localhost:8080/",
          "height": 52
        },
        "id": "lT-4YchQ8bBx",
        "outputId": "f8cd1991-503c-4501-aff9-b51516c7a0c6"
      },
      "outputs": [
        {
          "data": {
            "text/plain": [
              "<Figure size 1800x1008 with 0 Axes>"
            ]
          },
          "execution_count": 82,
          "metadata": {},
          "output_type": "execute_result"
        },
        {
          "data": {
            "text/plain": [
              "<Figure size 1800x1008 with 0 Axes>"
            ]
          },
          "metadata": {},
          "output_type": "display_data"
        }
      ],
      "source": [
        "plt.figure(figsize=(25, 14))"
      ]
    },
    {
      "cell_type": "code",
      "execution_count": 102,
      "metadata": {
        "colab": {
          "base_uri": "https://localhost:8080/",
          "height": 312
        },
        "id": "Qt8o3nKr8dzL",
        "outputId": "6b693ebf-e349-40b5-aa41-07a7d4ef7b58"
      },
      "outputs": [
        {
          "data": {
            "text/plain": [
              "<matplotlib.legend.Legend at 0x1ef278f46a0>"
            ]
          },
          "execution_count": 102,
          "metadata": {},
          "output_type": "execute_result"
        },
        {
          "data": {
            "image/png": "[encoded data removed]",
            "text/plain": [
              "<Figure size 432x288 with 1 Axes>"
            ]
          },
          "metadata": {
            "needs_background": "light"
          },
          "output_type": "display_data"
        }
      ],
      "source": [
        "plt.subplot(1, 1, 1)\n",
        "plt.plot(history.history['accuracy'], label='Training Accuracy')\n",
        "plt.plot(history.history['val_accuracy'], label='Validation Accuracy')\n",
        "plt.title('Accuracy Curves')\n",
        "plt.xlabel('Epochs')\n",
        "plt.ylabel('Accuracy')\n",
        "plt.legend()"
      ]
    },
    {
      "cell_type": "code",
      "execution_count": 105,
      "metadata": {
        "colab": {
          "base_uri": "https://localhost:8080/",
          "height": 312
        },
        "id": "vxt5EOUU8fq3",
        "outputId": "d6bc1a35-5438-4564-d647-ea41b6be90c7"
      },
      "outputs": [
        {
          "data": {
            "text/plain": [
              "<matplotlib.legend.Legend at 0x1ef2772dba0>"
            ]
          },
          "execution_count": 105,
          "metadata": {},
          "output_type": "execute_result"
        },
        {
          "data": {
            "image/png": "[encoded data removed]",
            "text/plain": [
              "<Figure size 432x288 with 1 Axes>"
            ]
          },
          "metadata": {
            "needs_background": "light"
          },
          "output_type": "display_data"
        }
      ],
      "source": [
        "plt.subplot(1, 1, 1)\n",
        "plt.plot(history.history['loss'], label='Training Loss')\n",
        "plt.plot(history.history['val_loss'], label='Validation Loss')\n",
        "plt.title('Loss Curves')\n",
        "plt.xlabel('Epochs')\n",
        "plt.ylabel('Loss')\n",
        "plt.legend()"
      ]
    },
    {
      "cell_type": "code",
      "execution_count": 106,
      "metadata": {
        "colab": {
          "base_uri": "https://localhost:8080/",
          "height": 34
        },
        "id": "ZM_0_YAJ8hXx",
        "outputId": "759a1af4-de9e-4286-e5a4-80f101352a37"
      },
      "outputs": [
        {
          "data": {
            "text/plain": [
              "<Figure size 432x288 with 0 Axes>"
            ]
          },
          "metadata": {},
          "output_type": "display_data"
        }
      ],
      "source": [
        "plt.tight_layout()\n",
        "plt.show()"
      ]
    },
    {
      "cell_type": "code",
      "execution_count": 119,
      "metadata": {
        "id": "VMECjTxMvHHQ"
      },
      "outputs": [],
      "source": [
        "model.save('DenseNet.h5')"
      ]
    }
  ],
  "metadata": {
    "accelerator": "TPU",
    "colab": {
      "provenance": []
    },
    "kernelspec": {
      "display_name": "Python 3",
      "name": "python3"
    },
    "language_info": {
      "name": "python"
    }
  },
  "nbformat": 4,
  "nbformat_minor": 0
}
